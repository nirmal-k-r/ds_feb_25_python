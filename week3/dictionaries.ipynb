{
 "cells": [
  {
   "cell_type": "code",
   "execution_count": null,
   "metadata": {},
   "outputs": [
    {
     "name": "stdout",
     "output_type": "stream",
     "text": [
      "{'name': 'Paul', 'age': 30, 'married': False}\n"
     ]
    }
   ],
   "source": [
    "#dictionaries - used to store key value pairs\n",
    "\n",
    "person={\n",
    "    'name': \"Paul\",  #name is the key and paul is the value\n",
    "    'age': 30,\n",
    "    'married': False\n",
    "}\n",
    "\n",
    "print(person)"
   ]
  },
  {
   "cell_type": "code",
   "execution_count": null,
   "metadata": {},
   "outputs": [
    {
     "name": "stdout",
     "output_type": "stream",
     "text": [
      "{'a': '2'}\n"
     ]
    }
   ],
   "source": [
    "#dictionary doesnt allow duplicate keys\n",
    "\n",
    "data={\n",
    "    'a': '1',\n",
    "    'a':'2'  #key should be unique or it will be overwrriten\n",
    "}\n",
    "\n",
    "print(data)"
   ]
  },
  {
   "cell_type": "code",
   "execution_count": 4,
   "metadata": {},
   "outputs": [
    {
     "name": "stdout",
     "output_type": "stream",
     "text": [
      "Paul\n",
      "30\n",
      "False\n"
     ]
    }
   ],
   "source": [
    "person={\n",
    "    'name': \"Paul\", \n",
    "    'age': 30,\n",
    "    'married': False\n",
    "}\n",
    "\n",
    "\n",
    "print(person['name'])\n",
    "print(person['age'])\n",
    "print(person['married'])"
   ]
  },
  {
   "cell_type": "code",
   "execution_count": 7,
   "metadata": {},
   "outputs": [
    {
     "name": "stdout",
     "output_type": "stream",
     "text": [
      "{'name': 'Paul', 'marks': {'english': [20, 30, 50], 'french': [50, 60], 'math': [50]}, 'data': (10, 20)}\n",
      "60\n",
      "pierre\n"
     ]
    }
   ],
   "source": [
    "student={\n",
    "    'name': 'Paul',\n",
    "    'marks':{\n",
    "        'english': [20,30,50],\n",
    "        'french': [50,60],\n",
    "        'math':[50]\n",
    "    },\n",
    "    'data': (10,20)\n",
    "}\n",
    "\n",
    "print(student)\n",
    "\n",
    "\n",
    "print(student['marks']['french'][1])\n",
    "\n",
    "\n",
    "student['name']=\"pierre\"\n",
    "\n",
    "print(student['name'])"
   ]
  },
  {
   "cell_type": "code",
   "execution_count": 8,
   "metadata": {},
   "outputs": [
    {
     "name": "stdout",
     "output_type": "stream",
     "text": [
      "{'make': 'Ford', 'model': 'Raptor', 'year': 2015}\n"
     ]
    }
   ],
   "source": [
    "car={}\n",
    "\n",
    "#add key value pair to car\n",
    "car['make']='Ford'\n",
    "car['model']='Raptor'\n",
    "car['year']=2015\n",
    "\n",
    "print(car)"
   ]
  },
  {
   "cell_type": "code",
   "execution_count": 10,
   "metadata": {},
   "outputs": [
    {
     "name": "stdout",
     "output_type": "stream",
     "text": [
      "{'name': 'Paul', 'marks': {'english': [20, 30, 50], 'french': [50, 60], 'math': [50], 'chinese': ['10', '30', '50']}, 'data': (10, 20)}\n"
     ]
    }
   ],
   "source": [
    "student={\n",
    "    'name': 'Paul',\n",
    "    'marks':{\n",
    "        'english': [20,30,50],\n",
    "        'french': [50,60],\n",
    "        'math':[50],\n",
    "        'chinese':[]\n",
    "    },\n",
    "    'data': (10,20)\n",
    "}\n",
    "\n",
    "num_tests=3\n",
    "\n",
    "for i in range(num_tests):\n",
    "    mark=input(\"ENter mark: \")\n",
    "    student['marks']['chinese'].append(mark)\n",
    "\n",
    "print(student)"
   ]
  },
  {
   "cell_type": "code",
   "execution_count": 11,
   "metadata": {},
   "outputs": [
    {
     "name": "stdout",
     "output_type": "stream",
     "text": [
      "name\n",
      "age\n",
      "married\n"
     ]
    }
   ],
   "source": [
    "person={\n",
    "    'name': \"Paul\",  \n",
    "    'age': 30,\n",
    "    'married': False\n",
    "}\n",
    "\n",
    "#iterate over keys\n",
    "\n",
    "for key in person:\n",
    "    print(key)"
   ]
  },
  {
   "cell_type": "code",
   "execution_count": 16,
   "metadata": {},
   "outputs": [
    {
     "name": "stdout",
     "output_type": "stream",
     "text": [
      "Paul\n",
      "30\n",
      "False\n",
      "Paul\n",
      "30\n",
      "False\n"
     ]
    }
   ],
   "source": [
    "#iterate over values\n",
    "for key in person:\n",
    "    print(person[key])\n",
    "\n",
    "for value in person.values():\n",
    "    print(value)"
   ]
  },
  {
   "cell_type": "code",
   "execution_count": null,
   "metadata": {},
   "outputs": [
    {
     "name": "stdout",
     "output_type": "stream",
     "text": [
      "name Paul\n",
      "age 30\n",
      "married False\n"
     ]
    }
   ],
   "source": [
    "#oterate thru both keys and values\n",
    "for key,value in person.items():\n",
    "    print(key,value)"
   ]
  },
  {
   "cell_type": "code",
   "execution_count": null,
   "metadata": {},
   "outputs": [],
   "source": []
  }
 ],
 "metadata": {
  "kernelspec": {
   "display_name": "Python 3",
   "language": "python",
   "name": "python3"
  },
  "language_info": {
   "codemirror_mode": {
    "name": "ipython",
    "version": 3
   },
   "file_extension": ".py",
   "mimetype": "text/x-python",
   "name": "python",
   "nbconvert_exporter": "python",
   "pygments_lexer": "ipython3",
   "version": "3.10.2"
  }
 },
 "nbformat": 4,
 "nbformat_minor": 2
}
