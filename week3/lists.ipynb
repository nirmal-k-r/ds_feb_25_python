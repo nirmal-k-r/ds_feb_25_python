{
 "cells": [
  {
   "cell_type": "code",
   "execution_count": 16,
   "metadata": {},
   "outputs": [],
   "source": [
    "mark1=50\n",
    "mark2=60\n",
    "mark3=70\n",
    "mark4=80\n",
    "mark5=88\n",
    "mark6=10\n",
    "mark7=20\n",
    "mark8=30\n",
    "mark9=40\n",
    "mark10=100\n"
   ]
  },
  {
   "cell_type": "code",
   "execution_count": 17,
   "metadata": {},
   "outputs": [],
   "source": [
    "#complex data structure\n",
    "# sets\n",
    "# tuples\n",
    "# dictionaries\n",
    "# lists"
   ]
  },
  {
   "cell_type": "code",
   "execution_count": 18,
   "metadata": {},
   "outputs": [
    {
     "name": "stdout",
     "output_type": "stream",
     "text": [
      "['Tom', 'Paul', 'John', 'Eric', 'Peter']\n"
     ]
    }
   ],
   "source": [
    "#lists\n",
    "\n",
    "names=[\"Tom\",'Paul',\"John\",\"Eric\",\"Peter\"]\n",
    "\n",
    "print(names)"
   ]
  },
  {
   "cell_type": "code",
   "execution_count": 19,
   "metadata": {},
   "outputs": [
    {
     "name": "stdout",
     "output_type": "stream",
     "text": [
      "Tom\n",
      "Eric\n"
     ]
    }
   ],
   "source": [
    "#accessing a list\n",
    "\n",
    "first_name=names[0]\n",
    "\n",
    "print(first_name)\n",
    "\n",
    "\n",
    "fourth_name=names[3]\n",
    "\n",
    "print(fourth_name)"
   ]
  },
  {
   "cell_type": "code",
   "execution_count": 4,
   "metadata": {},
   "outputs": [
    {
     "name": "stdout",
     "output_type": "stream",
     "text": [
      "[10, 31, 40]\n"
     ]
    }
   ],
   "source": [
    "#update a list\n",
    "ages=[10,30,40]\n",
    "\n",
    "\n",
    "ages[1]=31\n",
    "\n",
    "print(ages)"
   ]
  },
  {
   "cell_type": "code",
   "execution_count": 20,
   "metadata": {},
   "outputs": [
    {
     "name": "stdout",
     "output_type": "stream",
     "text": [
      "Ford\n",
      "Subaru\n"
     ]
    }
   ],
   "source": [
    "#a list is circular\n",
    "cars=[\"Toyota\",\"Nissan\",\"Subaru\",\"Mazda\",\"Ford\"]\n",
    "\n",
    "# print(cars[0])\n",
    "# print(cars[1])\n",
    "# print(cars[2])\n",
    "# print(cars[3])\n",
    "# print(cars[4])\n",
    "\n",
    "# print(cars[5])\n",
    "\n",
    "#negative indexing\n",
    "# -1 is the last element\n",
    "\n",
    "print(cars[-1])\n",
    "\n",
    "\n",
    "#subaru\n",
    "print(cars[-3])\n",
    "\n",
    "\n",
    "#negative indexing also goes out of range\n",
    "# print(cars[-6])"
   ]
  },
  {
   "cell_type": "code",
   "execution_count": 21,
   "metadata": {},
   "outputs": [
    {
     "name": "stdout",
     "output_type": "stream",
     "text": [
      "[]\n",
      "0\n"
     ]
    }
   ],
   "source": [
    "#empty lists\n",
    "hotels=[]\n",
    "\n",
    "print(hotels)\n",
    "\n",
    "#find the length of a list\n",
    "length=len(hotels)\n",
    "print(length)"
   ]
  },
  {
   "cell_type": "code",
   "execution_count": 22,
   "metadata": {},
   "outputs": [
    {
     "name": "stdout",
     "output_type": "stream",
     "text": [
      "['Hilton']\n",
      "['Hilton', 'Riu', 'Lux']\n"
     ]
    }
   ],
   "source": [
    "#add an element to a list - LIFO\n",
    "hotels=[]\n",
    "\n",
    "\n",
    "hotels.append(\"Hilton\") #add value at the end of the list\n",
    "\n",
    "print(hotels)\n",
    "\n",
    "hotels.append(\"Riu\")\n",
    "\n",
    "hotels.append('Lux')\n",
    "\n",
    "print(hotels)"
   ]
  },
  {
   "cell_type": "code",
   "execution_count": 23,
   "metadata": {},
   "outputs": [
    {
     "name": "stdout",
     "output_type": "stream",
     "text": [
      "['Hilton', 'Riu', 'Lux']\n",
      "['Hilton', 'Riu']\n",
      "Riu\n",
      "['Hilton']\n"
     ]
    }
   ],
   "source": [
    "#remove from the list\n",
    "\n",
    "print(hotels)\n",
    "hotels.pop()\n",
    "\n",
    "print(hotels)\n",
    "\n",
    "removed=hotels.pop() #remove and save to variable\n",
    "print(removed)\n",
    "print(hotels)\n"
   ]
  },
  {
   "cell_type": "code",
   "execution_count": 1,
   "metadata": {},
   "outputs": [
    {
     "name": "stdout",
     "output_type": "stream",
     "text": [
      "['Tom', 'Eric', 'Pierre']\n"
     ]
    }
   ],
   "source": [
    "#delete specific element\n",
    "\n",
    "names= [\"Tom\",\"Eric\",\"paul\",\"Pierre\"]\n",
    "\n",
    "names.remove(\"paul\")\n",
    "print(names)"
   ]
  },
  {
   "cell_type": "code",
   "execution_count": 2,
   "metadata": {},
   "outputs": [
    {
     "name": "stdout",
     "output_type": "stream",
     "text": [
      "Tom\n",
      "Eric\n",
      "paul\n",
      "Pierre\n"
     ]
    }
   ],
   "source": [
    "names= [\"Tom\",\"Eric\",\"paul\",\"Pierre\"]\n",
    "\n",
    "\n",
    "for name in names:\n",
    "    print(name)"
   ]
  },
  {
   "cell_type": "code",
   "execution_count": 3,
   "metadata": {},
   "outputs": [
    {
     "name": "stdout",
     "output_type": "stream",
     "text": [
      "0 : Tom\n",
      "1 : Eric\n",
      "2 : paul\n",
      "3 : Pierre\n"
     ]
    }
   ],
   "source": [
    "for i,name in enumerate(names):\n",
    "    print(f\"{i} : {name}\")"
   ]
  },
  {
   "cell_type": "code",
   "execution_count": 6,
   "metadata": {},
   "outputs": [
    {
     "name": "stdout",
     "output_type": "stream",
     "text": [
      "['Tom', 'Wick', 30, False]\n",
      "<class 'list'>\n"
     ]
    }
   ],
   "source": [
    "#lists in python are dynamic\n",
    "\n",
    "person=[\"Tom\",\"Wick\",30,False]\n",
    "print(person)\n",
    "\n",
    "print(type(person))"
   ]
  },
  {
   "cell_type": "code",
   "execution_count": 7,
   "metadata": {},
   "outputs": [
    {
     "name": "stdout",
     "output_type": "stream",
     "text": [
      "308\n",
      "Avg is 51.333333333333336\n"
     ]
    }
   ],
   "source": [
    "marks=[40,50,60,33,55,70]\n",
    "\n",
    "total=0\n",
    "for mark in marks:\n",
    "    total=total+mark\n",
    "\n",
    "print(total)\n",
    "avg=total/len(marks)\n",
    "print(f'Avg is {avg}')\n"
   ]
  },
  {
   "cell_type": "code",
   "execution_count": 13,
   "metadata": {},
   "outputs": [
    {
     "name": "stdout",
     "output_type": "stream",
     "text": [
      "[[40, 50, 60], [20, 30, 70], [60, 50, 30]]\n",
      "[40, 50, 60]\n",
      "50\n",
      "70\n",
      "[[40, 50, 60], [20, 30, 70], [60, 50, 30], [50, 60, 70]]\n",
      "[[40, 50, 60], [20, 30, 70], [60, 50, 30], [50, 60, 90]]\n"
     ]
    }
   ],
   "source": [
    "student_marks=[[40,50,60],[20,30,70],[60,50,30]]\n",
    "\n",
    "print(student_marks)\n",
    "\n",
    "first_students_marks=student_marks[0]\n",
    "print(first_students_marks)\n",
    "\n",
    "#lets say i want ot get 50 (3rd students 2nd mark)\n",
    "value= student_marks[2][1]\n",
    "print(value)\n",
    "\n",
    "\n",
    "#70\n",
    "print(student_marks[1][2])\n",
    "\n",
    "\n",
    "fourth_student=[50,60,70]\n",
    "\n",
    "student_marks.append(fourth_student)\n",
    "print(student_marks)\n",
    "\n",
    "#update\n",
    "student_marks[3][2]=90\n",
    "\n",
    "print(student_marks)"
   ]
  },
  {
   "cell_type": "code",
   "execution_count": null,
   "metadata": {},
   "outputs": [
    {
     "ename": "NameError",
     "evalue": "name 'name' is not defined",
     "output_type": "error",
     "traceback": [
      "\u001b[0;31m---------------------------------------------------------------------------\u001b[0m",
      "\u001b[0;31mNameError\u001b[0m                                 Traceback (most recent call last)",
      "Cell \u001b[0;32mIn[14], line 5\u001b[0m\n\u001b[1;32m      1\u001b[0m name\u001b[38;5;241m=\u001b[39m\u001b[38;5;124m\"\u001b[39m\u001b[38;5;124mtom\u001b[39m\u001b[38;5;124m\"\u001b[39m\n\u001b[1;32m      3\u001b[0m \u001b[38;5;28;01mdel\u001b[39;00m name\n\u001b[0;32m----> 5\u001b[0m \u001b[38;5;28mprint\u001b[39m(\u001b[43mname\u001b[49m)\n",
      "\u001b[0;31mNameError\u001b[0m: name 'name' is not defined"
     ]
    }
   ],
   "source": [
    "#delete variable form memory\n",
    "name=\"tom\"\n",
    "\n",
    "del name\n",
    "\n",
    "print(name)"
   ]
  },
  {
   "cell_type": "code",
   "execution_count": 19,
   "metadata": {},
   "outputs": [
    {
     "name": "stdout",
     "output_type": "stream",
     "text": [
      "40\n",
      "50\n",
      "60\n",
      "20\n",
      "30\n",
      "70\n",
      "60\n",
      "50\n",
      "30\n",
      "total:  410\n",
      "average:  45.55555555555556\n"
     ]
    }
   ],
   "source": [
    "student_marks=[[40,50,60],[20,30,70],[60,50,30]]\n",
    "\n",
    "\n",
    "\n",
    "total=0\n",
    "counter=0\n",
    "\n",
    "for student in student_marks:\n",
    "    for mark in student:\n",
    "        print(mark)\n",
    "        total=total+mark\n",
    "        counter+=1\n",
    "\n",
    "print(\"total: \",total)\n",
    "    \n",
    "avg=total/counter\n",
    "print(\"average: \",avg)"
   ]
  },
  {
   "cell_type": "code",
   "execution_count": 21,
   "metadata": {},
   "outputs": [
    {
     "name": "stdout",
     "output_type": "stream",
     "text": [
      "['Tom', 'Eric', 'paul']\n",
      "['paul', 'Pierre']\n"
     ]
    }
   ],
   "source": [
    "#array slicing\n",
    "\n",
    "\n",
    "names=[\"Tom\",\"Eric\",\"paul\",\"Pierre\"]\n",
    "\n",
    "new_names=names[0:3]\n",
    "print(new_names)\n",
    "\n",
    "\n",
    "#paul and pierre only\n",
    "new_names=names[2:4]\n",
    "print(new_names)"
   ]
  },
  {
   "cell_type": "code",
   "execution_count": 24,
   "metadata": {},
   "outputs": [
    {
     "name": "stdout",
     "output_type": "stream",
     "text": [
      "['paul', 'Pierre']\n",
      "['Tom', 'Eric', 'paul']\n"
     ]
    }
   ],
   "source": [
    "names=[\"Tom\",\"Eric\",\"paul\",\"Pierre\"]\n",
    "\n",
    "#get last 2 elements\n",
    "print(names[-2:])\n",
    "\n",
    "\n",
    "#get first 3\n",
    "\n",
    "print(names[:3])"
   ]
  }
 ],
 "metadata": {
  "kernelspec": {
   "display_name": "Python 3",
   "language": "python",
   "name": "python3"
  },
  "language_info": {
   "codemirror_mode": {
    "name": "ipython",
    "version": 3
   },
   "file_extension": ".py",
   "mimetype": "text/x-python",
   "name": "python",
   "nbconvert_exporter": "python",
   "pygments_lexer": "ipython3",
   "version": "3.10.2"
  }
 },
 "nbformat": 4,
 "nbformat_minor": 2
}
