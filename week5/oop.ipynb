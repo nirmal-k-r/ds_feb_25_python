{
 "cells": [
  {
   "cell_type": "code",
   "execution_count": 11,
   "metadata": {},
   "outputs": [
    {
     "name": "stdout",
     "output_type": "stream",
     "text": [
      "<class 'str'>\n"
     ]
    }
   ],
   "source": [
    "name=\"John Doe\"\n",
    "\n",
    "print(type(name))"
   ]
  },
  {
   "cell_type": "code",
   "execution_count": 16,
   "metadata": {},
   "outputs": [],
   "source": [
    "car={\n",
    "    \"regNo\":\"KA-01-HH-1234\",\n",
    "    \"model\":\"BMW\",\n",
    "    \"color\":\"Black\",\n",
    "    \"owner\":\"John Doe\"\n",
    "}"
   ]
  },
  {
   "cell_type": "code",
   "execution_count": 17,
   "metadata": {},
   "outputs": [],
   "source": [
    "#class definition\n",
    "class Car:\n",
    "    def __init__(self,regNo, make, model, year, color): #constructor -> initialisation function\n",
    "        self.regNo = regNo\n",
    "        self.make = make\n",
    "        self.model = model\n",
    "        self.year = year\n",
    "        self.color = color\n",
    "\n",
    "\n",
    "#creating an object\n",
    "myCar= Car(\"KA-01-HH-1234\", \"BMW\", \"X5\", 2020, \"Black\")  #myCar is an object of class Car\n"
   ]
  },
  {
   "cell_type": "code",
   "execution_count": 20,
   "metadata": {},
   "outputs": [
    {
     "name": "stdout",
     "output_type": "stream",
     "text": [
      "<class '__main__.Car'>\n"
     ]
    }
   ],
   "source": [
    "print(type(myCar))"
   ]
  },
  {
   "cell_type": "code",
   "execution_count": 21,
   "metadata": {},
   "outputs": [
    {
     "name": "stdout",
     "output_type": "stream",
     "text": [
      "<__main__.Car object at 0x1067b6a40>\n"
     ]
    }
   ],
   "source": [
    "print(myCar)"
   ]
  },
  {
   "cell_type": "code",
   "execution_count": 19,
   "metadata": {},
   "outputs": [
    {
     "name": "stdout",
     "output_type": "stream",
     "text": [
      "KA-01-HH-1234\n",
      "BMW\n",
      "X5\n",
      "2020\n",
      "Black\n"
     ]
    }
   ],
   "source": [
    "print(myCar.regNo)\n",
    "print(myCar.make)\n",
    "print(myCar.model)\n",
    "print(myCar.year)\n",
    "print(myCar.color)\n"
   ]
  },
  {
   "cell_type": "code",
   "execution_count": 2,
   "metadata": {},
   "outputs": [],
   "source": [
    "#class definition\n",
    "class Car:\n",
    "    def __init__(self,regNo, make, model, year, color): #constructor -> initialisation function\n",
    "        self.regNo = regNo\n",
    "        self.make = make\n",
    "        self.model = model\n",
    "        self.year = year\n",
    "        self.color = color\n",
    "\n",
    "    def info(self):\n",
    "        print(self.regNo)\n",
    "        print(self.make)\n",
    "        print(self.model)\n",
    "        print(self.year)\n",
    "        print(self.color)\n",
    "        print(\"\\n\")"
   ]
  },
  {
   "cell_type": "code",
   "execution_count": null,
   "metadata": {},
   "outputs": [
    {
     "name": "stdout",
     "output_type": "stream",
     "text": [
      "KA-01-HH-1234\n",
      "BMW\n",
      "X5\n",
      "2020\n",
      "Black\n",
      "\n",
      "\n",
      "KA-01-HH-5678\n",
      "Audi\n",
      "Q7\n",
      "2021\n",
      "White\n",
      "\n",
      "\n"
     ]
    }
   ],
   "source": [
    "myCar= Car(\"KA-01-HH-1234\", \"BMW\", \"X5\", 2020, \"Black\")  #myCar is an object of class Car\n",
    "myCar.info()\n",
    "\n",
    "\n",
    "otherCar= Car(\"KA-01-HH-5678\", \"Audi\", \"Q7\", 2021, \"White\")  #otherCar is an object of class Car    \n",
    "otherCar.info()"
   ]
  },
  {
   "cell_type": "code",
   "execution_count": 4,
   "metadata": {},
   "outputs": [
    {
     "name": "stdout",
     "output_type": "stream",
     "text": [
      "5\n"
     ]
    }
   ],
   "source": [
    "class Square:\n",
    "    def __init__(self,length):\n",
    "        self.len=length\n",
    "\n",
    "\n",
    "square1= Square(5)\n",
    "print(square1.len)"
   ]
  },
  {
   "cell_type": "code",
   "execution_count": 10,
   "metadata": {},
   "outputs": [
    {
     "name": "stdout",
     "output_type": "stream",
     "text": [
      "Tommy is saying Woof\n",
      "Tommy\n",
      "Jerry is saying Woof\n",
      "Tommy is playing with Jerry\n",
      "Spike is playing with Tommy\n"
     ]
    }
   ],
   "source": [
    "class Dog:\n",
    "    def __init__(self,name):\n",
    "        self.name=name\n",
    "\n",
    "    def bark(self):\n",
    "        print(self.name+\" is saying Woof\")\n",
    "\n",
    "    def play(self,otherDog):\n",
    "        print(self.name+\" is playing with \"+otherDog.name)\n",
    "\n",
    "\n",
    "#main program\n",
    "dog1= Dog(\"Tommy\")\n",
    "dog1.bark()\n",
    "print(dog1.name)\n",
    "\n",
    "dog2= Dog(\"Jerry\")\n",
    "dog2.bark()\n",
    "\n",
    "\n",
    "dog3= Dog(\"Spike\")\n",
    "\n",
    "\n",
    "#interaction between objects\n",
    "dog1.play(dog2)\n",
    "\n",
    "\n",
    "dog3.play(dog1)"
   ]
  },
  {
   "cell_type": "code",
   "execution_count": 15,
   "metadata": {},
   "outputs": [
    {
     "name": "stdout",
     "output_type": "stream",
     "text": [
      "Tobby is playing with Mimi\n"
     ]
    }
   ],
   "source": [
    "class Dog:\n",
    "    def __init__(self,name):\n",
    "        self.name=name\n",
    "\n",
    "    def bark(self):\n",
    "        print(self.name+\" is saying Woof\")\n",
    "\n",
    "    def play(self, otherDog):\n",
    "        print(self.name+\" is playing with \"+otherDog.name)\n",
    "\n",
    "\n",
    "class Cat:\n",
    "    def __init__(self,name):\n",
    "        self.name=name\n",
    "\n",
    "    def meow(self):\n",
    "        print(self.name+\" is saying Meow\")\n",
    "\n",
    "\n",
    "tobby= Dog(\"Tobby\")\n",
    "\n",
    "\n",
    "mimi=Cat(\"Mimi\")\n",
    "\n",
    "\n",
    "tobby.play(mimi)\n",
    "\n",
    "\n",
    "# mimi.play(tobby) #error"
   ]
  },
  {
   "cell_type": "code",
   "execution_count": 12,
   "metadata": {},
   "outputs": [
    {
     "name": "stdout",
     "output_type": "stream",
     "text": [
      "Hello\n",
      "123\n"
     ]
    }
   ],
   "source": [
    "def test(data):\n",
    "    print(data)\n",
    "\n",
    "\n",
    "test(\"Hello\")\n",
    "test(123)"
   ]
  },
  {
   "cell_type": "code",
   "execution_count": 20,
   "metadata": {},
   "outputs": [
    {
     "name": "stdout",
     "output_type": "stream",
     "text": [
      "<class 'list'>\n",
      "['tom', 'jerry']\n"
     ]
    }
   ],
   "source": [
    "names=[]\n",
    "\n",
    "print(type(names))\n",
    "\n",
    "\n",
    "names.append('tom')\n",
    "\n",
    "names.append('jerry')\n",
    "\n",
    "print(names)\n"
   ]
  },
  {
   "cell_type": "code",
   "execution_count": 21,
   "metadata": {},
   "outputs": [
    {
     "name": "stdout",
     "output_type": "stream",
     "text": [
      "[10, 20]\n"
     ]
    }
   ],
   "source": [
    "ages=list()\n",
    "ages.append(10)\n",
    "ages.append(20)\n",
    "\n",
    "print(ages)"
   ]
  },
  {
   "cell_type": "code",
   "execution_count": 22,
   "metadata": {},
   "outputs": [
    {
     "name": "stdout",
     "output_type": "stream",
     "text": [
      "JohnDoe\n"
     ]
    }
   ],
   "source": [
    "first_name=\"John\"\n",
    "last_name=\"Doe\"\n",
    "\n",
    "full_name=first_name+last_name\n",
    "print(full_name)"
   ]
  },
  {
   "cell_type": "code",
   "execution_count": null,
   "metadata": {},
   "outputs": [
    {
     "name": "stdout",
     "output_type": "stream",
     "text": [
      "JohnDoe\n"
     ]
    },
    {
     "data": {
      "text/plain": [
       "'John'"
      ]
     },
     "execution_count": 4,
     "metadata": {},
     "output_type": "execute_result"
    }
   ],
   "source": [
    "class Data:\n",
    "    def __init__(self, word):\n",
    "        self.word=word\n",
    "\n",
    "    def __add__(self, other):\n",
    "        return self.word+other.word\n",
    "    \n",
    "    def __repr__(self):\n",
    "        return \"test\"\n",
    "    \n",
    "    def __str__(self):\n",
    "        return self.word\n",
    "\n",
    "first_name=Data(\"John\")\n",
    "last_name=Data(\"Doe\")\n",
    "\n",
    "full_name=first_name+last_name\n",
    "print(full_name)\n",
    "\n",
    "str(first_name)\n"
   ]
  },
  {
   "cell_type": "code",
   "execution_count": null,
   "metadata": {},
   "outputs": [
    {
     "name": "stdout",
     "output_type": "stream",
     "text": [
      "[60 80 70]\n"
     ]
    }
   ],
   "source": [
    "import numpy as np\n",
    "\n",
    "marks= np.array([30,40,35])\n",
    "\n",
    "print(marks*2)\n"
   ]
  },
  {
   "cell_type": "code",
   "execution_count": 9,
   "metadata": {},
   "outputs": [
    {
     "name": "stdout",
     "output_type": "stream",
     "text": [
      "[10, 20, 30, 10, 20, 30]\n"
     ]
    }
   ],
   "source": [
    "mark=[10,20,30]\n",
    "\n",
    "print(mark*2)"
   ]
  },
  {
   "cell_type": "code",
   "execution_count": null,
   "metadata": {},
   "outputs": [
    {
     "name": "stdout",
     "output_type": "stream",
     "text": [
      "1997\n"
     ]
    },
    {
     "ename": "AttributeError",
     "evalue": "'Book' object has no attribute 'year'",
     "output_type": "error",
     "traceback": [
      "\u001b[0;31m---------------------------------------------------------------------------\u001b[0m",
      "\u001b[0;31mAttributeError\u001b[0m                            Traceback (most recent call last)",
      "Cell \u001b[0;32mIn[11], line 20\u001b[0m\n\u001b[1;32m     16\u001b[0m \u001b[38;5;28mprint\u001b[39m(hp1\u001b[38;5;241m.\u001b[39myear)\n\u001b[1;32m     19\u001b[0m hp2\u001b[38;5;241m=\u001b[39mBook(\u001b[38;5;124m\"\u001b[39m\u001b[38;5;124mHarry Potter 2\u001b[39m\u001b[38;5;124m\"\u001b[39m, \u001b[38;5;124m\"\u001b[39m\u001b[38;5;124mJ.K. Rowling\u001b[39m\u001b[38;5;124m\"\u001b[39m)\n\u001b[0;32m---> 20\u001b[0m \u001b[38;5;28mprint\u001b[39m(\u001b[43mhp2\u001b[49m\u001b[38;5;241;43m.\u001b[39;49m\u001b[43myear\u001b[49m)\n",
      "\u001b[0;31mAttributeError\u001b[0m: 'Book' object has no attribute 'year'"
     ]
    }
   ],
   "source": [
    "class Book:\n",
    "    def __init__(self, title, author):\n",
    "        self.title=title\n",
    "        self.author=author\n",
    "        \n",
    "    \n",
    "    def __str__(self):\n",
    "        return self.title+\" by \"+self.author\n",
    "    \n",
    "\n",
    "#main program\n",
    "\n",
    "hp1=Book(\"Harry Potter\", \"J.K. Rowling\")\n",
    "\n",
    "hp1.year=1997\n",
    "\n",
    "print(hp1.year)\n",
    "\n",
    "\n",
    "hp2=Book(\"Harry Potter 2\", \"J.K. Rowling\")\n",
    "print(hp2.year)\n",
    "\n"
   ]
  },
  {
   "cell_type": "code",
   "execution_count": null,
   "metadata": {},
   "outputs": [
    {
     "ename": "TypeError",
     "evalue": "Test.test() missing 1 required positional argument: 'self'",
     "output_type": "error",
     "traceback": [
      "\u001b[0;31m---------------------------------------------------------------------------\u001b[0m",
      "\u001b[0;31mTypeError\u001b[0m                                 Traceback (most recent call last)",
      "Cell \u001b[0;32mIn[16], line 8\u001b[0m\n\u001b[1;32m      5\u001b[0m     \u001b[38;5;28;01mdef\u001b[39;00m \u001b[38;5;21mtest\u001b[39m(\u001b[38;5;28mself\u001b[39m):\n\u001b[1;32m      6\u001b[0m         \u001b[38;5;28mprint\u001b[39m(\u001b[38;5;124m\"\u001b[39m\u001b[38;5;124mworks\u001b[39m\u001b[38;5;124m\"\u001b[39m)\n\u001b[0;32m----> 8\u001b[0m \u001b[43mTest\u001b[49m\u001b[38;5;241;43m.\u001b[39;49m\u001b[43mtest\u001b[49m\u001b[43m(\u001b[49m\u001b[43m)\u001b[49m\n\u001b[1;32m     10\u001b[0m t1\u001b[38;5;241m=\u001b[39mTest()\n\u001b[1;32m     11\u001b[0m t1\u001b[38;5;241m.\u001b[39mtest() \u001b[38;5;66;03m#the problem is that we need to create an object of the class Test to call the test method\u001b[39;00m\n",
      "\u001b[0;31mTypeError\u001b[0m: Test.test() missing 1 required positional argument: 'self'"
     ]
    }
   ],
   "source": [
    "class Test:\n",
    "    def __init__(self):\n",
    "        pass\n",
    "    \n",
    "    def test(self):\n",
    "        print(\"works\")\n",
    "\n",
    "# Test.test()\n",
    "\n",
    "t1=Test()\n",
    "t1.test() #the problem is that we need to create an object of the class Test to call the test method\n"
   ]
  },
  {
   "cell_type": "code",
   "execution_count": null,
   "metadata": {},
   "outputs": [
    {
     "name": "stdout",
     "output_type": "stream",
     "text": [
      "3.14\n",
      "78.5\n"
     ]
    }
   ],
   "source": [
    "class Common:\n",
    "    PI=3.14\n",
    "\n",
    "    def __init__(self):\n",
    "        self.PI=3.14\n",
    "        self.e=2.71\n",
    "        self.g=9.8\n",
    "\n",
    "    @staticmethod  #a decorator\n",
    "    def eval_circle_area(r):\n",
    "        return Common.PI*r*r\n",
    "    \n",
    "print(Common.PI)\n",
    "\n",
    "\n",
    "area=Common.eval_circle_area(5)\n",
    "print(area)\n"
   ]
  },
  {
   "cell_type": "code",
   "execution_count": null,
   "metadata": {},
   "outputs": [
    {
     "name": "stdout",
     "output_type": "stream",
     "text": [
      "Tom\n",
      "1000\n"
     ]
    }
   ],
   "source": [
    "class Employee:\n",
    "    def __init__(self, name, salary):\n",
    "        self.name=name\n",
    "        self.salary=salary\n",
    "    \n",
    "    def info(self):\n",
    "        print(self.name)\n",
    "        print(self.salary)\n",
    "\n",
    "class PartTimeEmployee(Employee):  #inherit the Employee class - inherit both the properties and methods\n",
    "    pass\n",
    "\n",
    "\n",
    "tom=PartTimeEmployee(\"Tom\", 1000)\n",
    "tom.info()\n",
    "\n"
   ]
  },
  {
   "cell_type": "code",
   "execution_count": 25,
   "metadata": {},
   "outputs": [
    {
     "name": "stdout",
     "output_type": "stream",
     "text": [
      "Tom\n",
      "1000\n",
      "10\n"
     ]
    },
    {
     "ename": "NameError",
     "evalue": "name 'tom' is not defined",
     "output_type": "error",
     "traceback": [
      "\u001b[0;31m---------------------------------------------------------------------------\u001b[0m",
      "\u001b[0;31mNameError\u001b[0m                                 Traceback (most recent call last)",
      "Cell \u001b[0;32mIn[25], line 28\u001b[0m\n\u001b[1;32m     24\u001b[0m tom\u001b[38;5;241m.\u001b[39minfo()\n\u001b[1;32m     26\u001b[0m \u001b[38;5;28;01mdel\u001b[39;00m tom\n\u001b[0;32m---> 28\u001b[0m \u001b[43mtom\u001b[49m\u001b[38;5;241m.\u001b[39minfo()\n",
      "\u001b[0;31mNameError\u001b[0m: name 'tom' is not defined"
     ]
    }
   ],
   "source": [
    "class Employee:\n",
    "    def __init__(self, name, salary):\n",
    "        self.name=name\n",
    "        self.salary=salary\n",
    "    \n",
    "    def info(self):\n",
    "        print(self.name)\n",
    "        print(self.salary)\n",
    "\n",
    "class PartTimeEmployee(Employee):  #inherit the Employee class - inherit both the properties and methods\n",
    "    def __init__(self, name, salary, hours):\n",
    "        Employee.__init__(self, name, salary) #simply call the constructor of the parent class \n",
    "        self.hours=hours\n",
    "\n",
    "    #polymorphism - change the behaviour of the method\n",
    "    def info(self):\n",
    "        Employee.info(self)\n",
    "        print(self.hours)\n",
    "        \n",
    "\n",
    "\n",
    "\n",
    "tom=PartTimeEmployee(\"Tom\", 1000,10)\n",
    "tom.info()\n",
    "\n",
    "del tom\n",
    "\n",
    "tom.info()"
   ]
  }
 ],
 "metadata": {
  "kernelspec": {
   "display_name": "Python 3",
   "language": "python",
   "name": "python3"
  },
  "language_info": {
   "codemirror_mode": {
    "name": "ipython",
    "version": 3
   },
   "file_extension": ".py",
   "mimetype": "text/x-python",
   "name": "python",
   "nbconvert_exporter": "python",
   "pygments_lexer": "ipython3",
   "version": "3.10.2"
  }
 },
 "nbformat": 4,
 "nbformat_minor": 2
}
