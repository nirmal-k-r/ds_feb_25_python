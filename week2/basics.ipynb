{
 "cells": [
  {
   "cell_type": "code",
   "execution_count": null,
   "metadata": {},
   "outputs": [
    {
     "name": "stdout",
     "output_type": "stream",
     "text": [
      "hello\n",
      "tom\n"
     ]
    }
   ],
   "source": [
    "#displaying greeting\n",
    "print('hello')\n",
    "print('tom')"
   ]
  },
  {
   "cell_type": "code",
   "execution_count": 6,
   "metadata": {},
   "outputs": [
    {
     "name": "stdout",
     "output_type": "stream",
     "text": [
      "test\n"
     ]
    }
   ],
   "source": [
    "#this is a comment \n",
    "print('test') #prints test\n",
    "\n",
    "#print('test2')"
   ]
  },
  {
   "cell_type": "code",
   "execution_count": null,
   "metadata": {},
   "outputs": [],
   "source": [
    "#fundamental concepts\n",
    "#Variables\n",
    "#Data types\n",
    "#Input/Output\n",
    "#Operators\n",
    "#Conditions\n",
    "#Loops\n",
    "#String manipulation\n",
    "#Arrays/Lists"
   ]
  },
  {
   "cell_type": "code",
   "execution_count": null,
   "metadata": {},
   "outputs": [
    {
     "name": "stdout",
     "output_type": "stream",
     "text": [
      "15\n"
     ]
    }
   ],
   "source": [
    "#variables\n",
    "age = 15\n",
    "\n",
    "print(age)"
   ]
  },
  {
   "cell_type": "code",
   "execution_count": null,
   "metadata": {},
   "outputs": [
    {
     "name": "stdout",
     "output_type": "stream",
     "text": [
      "15\n",
      "30\n"
     ]
    }
   ],
   "source": [
    "print(age)\n",
    "\n",
    "\n",
    "age=30\n",
    "\n",
    "print(age)"
   ]
  },
  {
   "cell_type": "code",
   "execution_count": null,
   "metadata": {},
   "outputs": [],
   "source": [
    "#variable naming convention\n",
    "\n",
    "name=\"John\" #good variable name\n",
    "name2=\"john\" #good variable name\n",
    "na2me=\"john\"\n",
    "\n",
    "# 2name=\"john\" #cannot start a varuable name with name\n",
    "\n",
    "# name£=\"john\" #special characters are not allowed\n",
    "\n",
    "# first name=\"john\" #variable name cannot contain spaces\n",
    "\n",
    "first_name=\"john\" #underscore is the only allowed special character\n",
    "\n",
    "firstName=\"tom\"\n",
    "\n",
    "Name=\"john\" #valid but should not be used. reserved for class names\n",
    "\n",
    "NAME='John'  #valid but should not be used. reserved for constant\n"
   ]
  },
  {
   "cell_type": "code",
   "execution_count": null,
   "metadata": {},
   "outputs": [],
   "source": [
    "#Data types\n",
    "#String\n",
    "#Number (integers and floating)\n",
    "#Boolean\n",
    "#None"
   ]
  },
  {
   "cell_type": "code",
   "execution_count": 3,
   "metadata": {},
   "outputs": [
    {
     "name": "stdout",
     "output_type": "stream",
     "text": [
      "A\n",
      "b\n",
      "2\n",
      "<class 'str'>\n"
     ]
    }
   ],
   "source": [
    "#string\n",
    "\n",
    "char=\"A\"\n",
    "\n",
    "print(char)\n",
    "\n",
    "char='b'\n",
    "\n",
    "print(char)\n",
    "\n",
    "num='2'\n",
    "print(num)\n",
    "\n",
    "\n",
    "print(type(num))"
   ]
  },
  {
   "cell_type": "code",
   "execution_count": 10,
   "metadata": {},
   "outputs": [
    {
     "name": "stdout",
     "output_type": "stream",
     "text": [
      "Bed\n",
      "This is some text\n",
      "GYFUU768329wGVF£Y*uijd d83290i`duhgvjbcju7yu\n"
     ]
    }
   ],
   "source": [
    "word='Bed'\n",
    "print(word)\n",
    "\n",
    "sentence='This is some text'\n",
    "print(sentence)\n",
    "\n",
    "\n",
    "data=\"GYFUU768329wGVF£Y*uijd d83290i`duhgvjbcju7yu\"\n",
    "print(data)"
   ]
  },
  {
   "cell_type": "code",
   "execution_count": 12,
   "metadata": {},
   "outputs": [
    {
     "name": "stdout",
     "output_type": "stream",
     "text": [
      "10\n",
      "<class 'int'>\n",
      "-334535432892883878\n"
     ]
    }
   ],
   "source": [
    "#Number\n",
    "\n",
    "#integers - whole numbers\n",
    "\n",
    "age=10\n",
    "print(age)\n",
    "\n",
    "print(type(age))\n",
    "\n",
    "age=0\n",
    "\n",
    "age= -334535432892883878\n",
    "print(age)"
   ]
  },
  {
   "cell_type": "code",
   "execution_count": 15,
   "metadata": {},
   "outputs": [
    {
     "name": "stdout",
     "output_type": "stream",
     "text": [
      "100.55\n",
      "-3829.678392093876\n",
      "<class 'float'>\n"
     ]
    }
   ],
   "source": [
    "#floating point - decimal numbers\n",
    "\n",
    "total=100.55\n",
    "print(total)\n",
    "\n",
    "total=-3829.678392093876\n",
    "print(total)\n",
    "\n",
    "print(type(total))"
   ]
  },
  {
   "cell_type": "code",
   "execution_count": 28,
   "metadata": {},
   "outputs": [
    {
     "name": "stdout",
     "output_type": "stream",
     "text": [
      "100.5\n"
     ]
    }
   ],
   "source": [
    "total=100.50000000000\n",
    "print(total)"
   ]
  },
  {
   "cell_type": "code",
   "execution_count": 31,
   "metadata": {},
   "outputs": [
    {
     "name": "stdout",
     "output_type": "stream",
     "text": [
      "True\n",
      "False\n",
      "<class 'bool'>\n"
     ]
    }
   ],
   "source": [
    "#boolean\n",
    "#true\n",
    "#false\n",
    "\n",
    "married=True\n",
    "print(married)\n",
    "\n",
    "married=False\n",
    "print(married)\n",
    "\n",
    "\n",
    "print(type(married))"
   ]
  },
  {
   "cell_type": "code",
   "execution_count": 32,
   "metadata": {},
   "outputs": [
    {
     "name": "stdout",
     "output_type": "stream",
     "text": [
      "<class 'NoneType'>\n"
     ]
    }
   ],
   "source": [
    "value=None\n",
    "\n",
    "print(type(value))"
   ]
  },
  {
   "cell_type": "code",
   "execution_count": 34,
   "metadata": {},
   "outputs": [
    {
     "name": "stdout",
     "output_type": "stream",
     "text": [
      "paul\n"
     ]
    }
   ],
   "source": [
    "#inputs\n",
    "\n",
    "name=input(\"Please enter your name\")\n",
    "\n",
    "print(name)"
   ]
  },
  {
   "cell_type": "code",
   "execution_count": null,
   "metadata": {},
   "outputs": [
    {
     "name": "stdout",
     "output_type": "stream",
     "text": [
      "This is some text\n",
      "Ton\n"
     ]
    }
   ],
   "source": [
    "#output\n",
    "\n",
    "print('This is some text')\n",
    "\n",
    "name='Ton'\n",
    "print(name)\n"
   ]
  },
  {
   "cell_type": "code",
   "execution_count": 44,
   "metadata": {},
   "outputs": [
    {
     "name": "stdout",
     "output_type": "stream",
     "text": [
      "Rita is 50 years old\n"
     ]
    }
   ],
   "source": [
    "name=\"Rita\"\n",
    "age=50\n",
    "\n",
    "print(name, \"is\",age,\"years old\")"
   ]
  },
  {
   "cell_type": "code",
   "execution_count": null,
   "metadata": {},
   "outputs": [
    {
     "name": "stdout",
     "output_type": "stream",
     "text": [
      "Rita is 50 years old\n"
     ]
    }
   ],
   "source": [
    "#string formatting\n",
    "print(\"{} is {} years old\".format(name,age))"
   ]
  },
  {
   "cell_type": "code",
   "execution_count": 46,
   "metadata": {},
   "outputs": [
    {
     "name": "stdout",
     "output_type": "stream",
     "text": [
      "Rita is 50 years old\n"
     ]
    }
   ],
   "source": [
    "#f-strings\n",
    "name=\"Rita\"\n",
    "age=50\n",
    "\n",
    "print(f\"{name} is {age} years old\")\n",
    "\n"
   ]
  },
  {
   "cell_type": "code",
   "execution_count": null,
   "metadata": {},
   "outputs": [
    {
     "name": "stdout",
     "output_type": "stream",
     "text": [
      "70\n",
      "<class 'int'>\n"
     ]
    }
   ],
   "source": [
    "#convertion/casting\n",
    "\n",
    "age=input('Enter your age')\n",
    "# age=int(input('Enter your age'))\n",
    "print(age)\n",
    "\n",
    "age=int(age)\n",
    "\n",
    "print(type(age))"
   ]
  },
  {
   "cell_type": "code",
   "execution_count": 50,
   "metadata": {},
   "outputs": [
    {
     "ename": "ValueError",
     "evalue": "invalid literal for int() with base 10: 'fhek'",
     "output_type": "error",
     "traceback": [
      "\u001b[0;31m---------------------------------------------------------------------------\u001b[0m",
      "\u001b[0;31mValueError\u001b[0m                                Traceback (most recent call last)",
      "Cell \u001b[0;32mIn[50], line 1\u001b[0m\n\u001b[0;32m----> 1\u001b[0m test\u001b[38;5;241m=\u001b[39m\u001b[38;5;28;43mint\u001b[39;49m\u001b[43m(\u001b[49m\u001b[38;5;28;43minput\u001b[39;49m\u001b[43m(\u001b[49m\u001b[38;5;124;43m'\u001b[39;49m\u001b[38;5;124;43mEnter your age: \u001b[39;49m\u001b[38;5;124;43m'\u001b[39;49m\u001b[43m)\u001b[49m\u001b[43m)\u001b[49m\n\u001b[1;32m      2\u001b[0m \u001b[38;5;28mprint\u001b[39m(test)\n",
      "\u001b[0;31mValueError\u001b[0m: invalid literal for int() with base 10: 'fhek'"
     ]
    }
   ],
   "source": [
    "test=int(input('Enter your age: '))\n",
    "print(test)\n"
   ]
  },
  {
   "cell_type": "code",
   "execution_count": null,
   "metadata": {},
   "outputs": [
    {
     "name": "stdout",
     "output_type": "stream",
     "text": [
      "Sum: 15\n",
      "Difference: 5\n",
      "Product: 50\n",
      "Quotient: 2.0\n",
      "Remainder: 0\n",
      "Power: 100000\n"
     ]
    }
   ],
   "source": [
    "#operators\n",
    "num1=10\n",
    "num2=5\n",
    "\n",
    "sum=num1+num2\n",
    "print(\"Sum:\", sum)\n",
    "\n",
    "difference = num1 - num2\n",
    "print(\"Difference:\", difference)\n",
    "\n",
    "product = num1 * num2\n",
    "print(\"Product:\", product)\n",
    "\n",
    "quotient = num1 / num2\n",
    "print(\"Quotient:\", quotient)\n",
    "\n",
    "remainder = num1 % num2\n",
    "print(\"Remainder:\", remainder)\n",
    "\n",
    "power = num1 ** num2\n",
    "print(\"Power:\", power)\n"
   ]
  },
  {
   "cell_type": "code",
   "execution_count": null,
   "metadata": {},
   "outputs": [],
   "source": [
    "#order of operations\n",
    "#BODMAS\n",
    "\n",
    "result= 3 + (15/5-2) * 3\n"
   ]
  },
  {
   "cell_type": "code",
   "execution_count": 16,
   "metadata": {},
   "outputs": [
    {
     "data": {
      "text/plain": [
       "3"
      ]
     },
     "execution_count": 16,
     "metadata": {},
     "output_type": "execute_result"
    }
   ],
   "source": [
    "import math\n",
    "\n",
    "num1=5.2\n",
    "num2=2\n",
    "\n",
    "\n",
    "# math.ceil(num1/num2)\n",
    "# math.floor(num1/num2)\n",
    "round(num1/num2)\n"
   ]
  },
  {
   "cell_type": "code",
   "execution_count": null,
   "metadata": {},
   "outputs": [],
   "source": [
    "#basic structure of a condition\n",
    "if ():\n",
    "    pass\n",
    "\n",
    "else:\n",
    "    pass"
   ]
  },
  {
   "cell_type": "code",
   "execution_count": 18,
   "metadata": {},
   "outputs": [
    {
     "name": "stdout",
     "output_type": "stream",
     "text": [
      "You are not married\n"
     ]
    }
   ],
   "source": [
    "married=False\n",
    "\n",
    "if (married==True):\n",
    "    print('You are married')\n",
    "else:\n",
    "    print('You are not married')"
   ]
  },
  {
   "cell_type": "code",
   "execution_count": 21,
   "metadata": {},
   "outputs": [
    {
     "name": "stdout",
     "output_type": "stream",
     "text": [
      "turning off the ac\n"
     ]
    }
   ],
   "source": [
    "temp=24\n",
    "\n",
    "if (temp>25):\n",
    "    print(\"turning on the ac\")\n",
    "else:\n",
    "    print(\"turning off the ac\")\n",
    "\n"
   ]
  },
  {
   "cell_type": "code",
   "execution_count": 26,
   "metadata": {},
   "outputs": [
    {
     "name": "stdout",
     "output_type": "stream",
     "text": [
      "You get a 10% discount\n"
     ]
    }
   ],
   "source": [
    "total=11000\n",
    "\n",
    "if total>1000:\n",
    "    print('You get a 10% discount')\n",
    "\n"
   ]
  },
  {
   "cell_type": "code",
   "execution_count": null,
   "metadata": {},
   "outputs": [
    {
     "name": "stdout",
     "output_type": "stream",
     "text": [
      "Incorrect password\n"
     ]
    }
   ],
   "source": [
    "password='1245'\n",
    "\n",
    "if password != '12345':\n",
    "    print('Incorrect password')"
   ]
  },
  {
   "cell_type": "code",
   "execution_count": 32,
   "metadata": {},
   "outputs": [
    {
     "name": "stdout",
     "output_type": "stream",
     "text": [
      "No discount\n"
     ]
    }
   ],
   "source": [
    "#if else if\n",
    "\n",
    "total=500\n",
    "\n",
    "if total>=10000:\n",
    "    print('You get a 10% discount')\n",
    "\n",
    "elif total>=5000:\n",
    "    print('You get a 5% discount')\n",
    "\n",
    "elif total>=1000:\n",
    "    print('You get a 1% discount')\n",
    "\n",
    "else:\n",
    "    print('No discount')"
   ]
  },
  {
   "cell_type": "code",
   "execution_count": null,
   "metadata": {},
   "outputs": [
    {
     "name": "stdout",
     "output_type": "stream",
     "text": [
      "You get a 1% discount\n",
      "You get a 5% discount\n",
      "You get a 10% discount\n"
     ]
    }
   ],
   "source": [
    "#incorreect order of condtions\n",
    "total=11000\n",
    "\n",
    "if total>=1000:\n",
    "    print('You get a 1% discount')\n",
    "\n",
    "elif total>=5000:\n",
    "    print('You get a 5% discount')\n",
    "\n",
    "elif total>=10000:\n",
    "    print('You get a 10% discount')\n",
    "\n",
    "else:\n",
    "    print('No discount')\n",
    "\n"
   ]
  },
  {
   "cell_type": "code",
   "execution_count": null,
   "metadata": {},
   "outputs": [
    {
     "name": "stdout",
     "output_type": "stream",
     "text": [
      "Turning on the ac\n"
     ]
    }
   ],
   "source": [
    "#and operator\n",
    "\n",
    "temp=27\n",
    "humidity=60\n",
    "\n",
    "if (temp>25 and humidity>50):\n",
    "    print('Turning on the ac')\n",
    "else:\n",
    "    print('Turning off the ac')\n",
    "\n",
    "\n"
   ]
  },
  {
   "cell_type": "code",
   "execution_count": 44,
   "metadata": {},
   "outputs": [
    {
     "name": "stdout",
     "output_type": "stream",
     "text": [
      "Turning on the ac\n"
     ]
    }
   ],
   "source": [
    "#or\n",
    "temp=29\n",
    "humidity=30\n",
    "\n",
    "if (temp>25 or humidity>50):\n",
    "    print('Turning on the ac')\n",
    "else:\n",
    "    print('Turning off the ac')\n",
    "\n"
   ]
  },
  {
   "cell_type": "code",
   "execution_count": 47,
   "metadata": {},
   "outputs": [
    {
     "name": "stdout",
     "output_type": "stream",
     "text": [
      "You are married\n"
     ]
    }
   ],
   "source": [
    "married=True\n",
    "\n",
    "if (married):\n",
    "    print('You are married')\n",
    "else:\n",
    "    print('You are not married')"
   ]
  },
  {
   "cell_type": "code",
   "execution_count": 50,
   "metadata": {},
   "outputs": [
    {
     "name": "stdout",
     "output_type": "stream",
     "text": [
      "You are not married\n"
     ]
    }
   ],
   "source": [
    "married=False\n",
    "\n",
    "if not married:\n",
    "    print('You are not married')"
   ]
  },
  {
   "cell_type": "code",
   "execution_count": 56,
   "metadata": {},
   "outputs": [
    {
     "name": "stdout",
     "output_type": "stream",
     "text": [
      "hello\n",
      "hello\n",
      "hello\n",
      "hello\n",
      "hello\n",
      "hello\n",
      "hello\n",
      "hello\n",
      "hello\n",
      "hello\n"
     ]
    }
   ],
   "source": [
    "#loops\n",
    "#while - condition based\n",
    "#for - counter based\n",
    "\n",
    "print('hello')\n",
    "print('hello')\n",
    "print('hello')\n",
    "print('hello')\n",
    "print('hello')\n",
    "print('hello')\n",
    "print('hello')\n",
    "print('hello')\n",
    "print('hello')\n",
    "print('hello')\n",
    "\n",
    "\n"
   ]
  },
  {
   "cell_type": "code",
   "execution_count": null,
   "metadata": {},
   "outputs": [],
   "source": [
    "#for loop structure\n",
    "for ():\n",
    "    pass"
   ]
  },
  {
   "cell_type": "code",
   "execution_count": 58,
   "metadata": {},
   "outputs": [
    {
     "name": "stdout",
     "output_type": "stream",
     "text": [
      "hello\n",
      "hello\n",
      "hello\n",
      "hello\n",
      "hello\n",
      "hello\n",
      "hello\n",
      "hello\n",
      "hello\n",
      "hello\n"
     ]
    }
   ],
   "source": [
    "#i is the counter variable\n",
    "\n",
    "for i in range(10):\n",
    "    print('hello')\n"
   ]
  },
  {
   "cell_type": "code",
   "execution_count": 59,
   "metadata": {},
   "outputs": [
    {
     "name": "stdout",
     "output_type": "stream",
     "text": [
      "0\n",
      "1\n",
      "2\n",
      "3\n",
      "4\n"
     ]
    }
   ],
   "source": [
    "for i in range(5):\n",
    "    print(i)"
   ]
  },
  {
   "cell_type": "code",
   "execution_count": 60,
   "metadata": {},
   "outputs": [
    {
     "name": "stdout",
     "output_type": "stream",
     "text": [
      "5\n",
      "6\n",
      "7\n",
      "8\n",
      "9\n"
     ]
    }
   ],
   "source": [
    "for i in range (5,10):\n",
    "    print(i)"
   ]
  },
  {
   "cell_type": "code",
   "execution_count": null,
   "metadata": {},
   "outputs": [
    {
     "name": "stdout",
     "output_type": "stream",
     "text": [
      "2\n",
      "4\n",
      "6\n",
      "8\n",
      "10\n"
     ]
    }
   ],
   "source": [
    "#print even numbers between 1 and 10\n",
    "\n",
    "for i in range(2,11,2):\n",
    "    print(i)"
   ]
  },
  {
   "cell_type": "code",
   "execution_count": null,
   "metadata": {},
   "outputs": [
    {
     "name": "stdout",
     "output_type": "stream",
     "text": [
      "1\n",
      "3\n",
      "5\n",
      "7\n",
      "9\n"
     ]
    }
   ],
   "source": [
    "#print odd numbers between 1 and 10\n",
    "for i in range(1,10,2):\n",
    "    print(i)"
   ]
  },
  {
   "cell_type": "code",
   "execution_count": 63,
   "metadata": {},
   "outputs": [
    {
     "name": "stdout",
     "output_type": "stream",
     "text": [
      "2\n",
      "4\n",
      "6\n",
      "8\n",
      "10\n",
      "12\n",
      "14\n",
      "16\n",
      "18\n"
     ]
    }
   ],
   "source": [
    "#print even number sbetween 1 and 20\n",
    "\n",
    "for i in range(20):\n",
    "    if i==0:\n",
    "        pass\n",
    "    else:\n",
    "        if i%2==0:\n",
    "            print(i)"
   ]
  },
  {
   "cell_type": "code",
   "execution_count": 64,
   "metadata": {},
   "outputs": [
    {
     "name": "stdout",
     "output_type": "stream",
     "text": [
      "10\n",
      "9\n",
      "8\n",
      "7\n",
      "6\n",
      "5\n",
      "4\n",
      "3\n",
      "2\n",
      "1\n"
     ]
    }
   ],
   "source": [
    "for i in range(10,0,-1):\n",
    "    print(i)\n",
    "    "
   ]
  },
  {
   "cell_type": "code",
   "execution_count": 66,
   "metadata": {},
   "outputs": [
    {
     "name": "stdout",
     "output_type": "stream",
     "text": [
      "The price is: 100\n",
      "Total: 100\n",
      "The price is: 200\n",
      "Total: 300\n",
      "The price is: 300\n",
      "Total: 600\n",
      "The price is: 5000\n",
      "Total: 5600\n",
      "The price is: -1\n",
      "The total is: 5600\n"
     ]
    }
   ],
   "source": [
    "#while loop\n",
    "\n",
    "price=0\n",
    "total=0\n",
    "\n",
    "while price!=-1:\n",
    "    price=int(input('Enter the price: '))\n",
    "    print('The price is:', price)\n",
    "    if price==-1:\n",
    "        break\n",
    "    total=total+price\n",
    "    print(\"Total:\", total)\n",
    "\n",
    "print('The total is:', total)\n"
   ]
  },
  {
   "cell_type": "code",
   "execution_count": null,
   "metadata": {},
   "outputs": [
    {
     "name": "stdout",
     "output_type": "stream",
     "text": [
      "Total: 100\n",
      "Total: 300\n",
      "Total: 600\n",
      "Total: 1200\n",
      "Total: 1300\n",
      "Total: 1500\n",
      "The total is: 1500\n"
     ]
    }
   ],
   "source": [
    "total=0\n",
    "\n",
    "while total<1500:\n",
    "    price=int(input('Enter the price: '))\n",
    "    total=total+price\n",
    "    print('Total:', total)\n",
    "\n",
    "print('The total is:', total)"
   ]
  },
  {
   "cell_type": "code",
   "execution_count": null,
   "metadata": {},
   "outputs": [],
   "source": [
    "while True: #inifnite loop\n",
    "    print('hello')\n"
   ]
  },
  {
   "cell_type": "code",
   "execution_count": 69,
   "metadata": {},
   "outputs": [
    {
     "name": "stdout",
     "output_type": "stream",
     "text": [
      "0\n",
      "1\n",
      "2\n",
      "4\n"
     ]
    }
   ],
   "source": [
    "#continue - skip to next iteration\n",
    "for i in range(5):\n",
    "    if i==3:\n",
    "        continue\n",
    "    print(i)"
   ]
  },
  {
   "cell_type": "code",
   "execution_count": 71,
   "metadata": {},
   "outputs": [
    {
     "name": "stdout",
     "output_type": "stream",
     "text": [
      "0\n",
      "1\n",
      "2\n",
      "3\n",
      "4\n",
      "program ends\n"
     ]
    }
   ],
   "source": [
    "#break - stop the loop - go out of the loop\n",
    "\n",
    "for i in range(10):\n",
    "    if i==5:\n",
    "        break\n",
    "    print(i)\n",
    "\n",
    "print('program ends')"
   ]
  }
 ],
 "metadata": {
  "kernelspec": {
   "display_name": "Python 3",
   "language": "python",
   "name": "python3"
  },
  "language_info": {
   "codemirror_mode": {
    "name": "ipython",
    "version": 3
   },
   "file_extension": ".py",
   "mimetype": "text/x-python",
   "name": "python",
   "nbconvert_exporter": "python",
   "pygments_lexer": "ipython3",
   "version": "3.10.2"
  }
 },
 "nbformat": 4,
 "nbformat_minor": 2
}
