{
 "cells": [
  {
   "cell_type": "code",
   "execution_count": 1,
   "metadata": {},
   "outputs": [
    {
     "ename": "NameError",
     "evalue": "name 'printe' is not defined",
     "output_type": "error",
     "traceback": [
      "\u001b[0;31m---------------------------------------------------------------------------\u001b[0m",
      "\u001b[0;31mNameError\u001b[0m                                 Traceback (most recent call last)",
      "Cell \u001b[0;32mIn[1], line 1\u001b[0m\n\u001b[0;32m----> 1\u001b[0m \u001b[43mprinte\u001b[49m(test) \u001b[38;5;66;03m#syntact -error in grammar of language\u001b[39;00m\n",
      "\u001b[0;31mNameError\u001b[0m: name 'printe' is not defined"
     ]
    }
   ],
   "source": [
    "printe(test) #syntact -error in grammar of language"
   ]
  },
  {
   "cell_type": "code",
   "execution_count": null,
   "metadata": {},
   "outputs": [
    {
     "name": "stdout",
     "output_type": "stream",
     "text": [
      "Hi\n",
      "There\n",
      "3\n"
     ]
    },
    {
     "ename": "ZeroDivisionError",
     "evalue": "division by zero",
     "output_type": "error",
     "traceback": [
      "\u001b[0;31m---------------------------------------------------------------------------\u001b[0m",
      "\u001b[0;31mZeroDivisionError\u001b[0m                         Traceback (most recent call last)",
      "Cell \u001b[0;32mIn[2], line 10\u001b[0m\n\u001b[1;32m      7\u001b[0m x\u001b[38;5;241m=\u001b[39m\u001b[38;5;241m10\u001b[39m\n\u001b[1;32m      8\u001b[0m y\u001b[38;5;241m=\u001b[39m\u001b[38;5;241m0\u001b[39m\n\u001b[0;32m---> 10\u001b[0m z\u001b[38;5;241m=\u001b[39m\u001b[43mx\u001b[49m\u001b[38;5;241;43m/\u001b[39;49m\u001b[43my\u001b[49m\n\u001b[1;32m     12\u001b[0m \u001b[38;5;28mprint\u001b[39m(z)\n\u001b[1;32m     14\u001b[0m \u001b[38;5;28mprint\u001b[39m(\u001b[38;5;124m'\u001b[39m\u001b[38;5;124mProgram ended\u001b[39m\u001b[38;5;124m'\u001b[39m)\n",
      "\u001b[0;31mZeroDivisionError\u001b[0m: division by zero"
     ]
    }
   ],
   "source": [
    "print('Hi')\n",
    "print('There')\n",
    "\n",
    "c=1+2\n",
    "print(c)\n",
    "\n",
    "x=10\n",
    "y=0\n",
    "\n",
    "z=x/y\n",
    "\n",
    "print(z)\n",
    "\n",
    "print('Program ended')"
   ]
  },
  {
   "cell_type": "code",
   "execution_count": null,
   "metadata": {},
   "outputs": [
    {
     "name": "stdout",
     "output_type": "stream",
     "text": [
      "Program starts\n",
      "Program ends\n"
     ]
    }
   ],
   "source": [
    "print('Program starts')\n",
    "a=10\n",
    "b=0\n",
    "\n",
    "#exception handling\n",
    "try:\n",
    "    c=a/b\n",
    "except:\n",
    "    print('An error occured')\n",
    "\n",
    "print('Program ends')"
   ]
  },
  {
   "cell_type": "code",
   "execution_count": 7,
   "metadata": {},
   "outputs": [
    {
     "name": "stdout",
     "output_type": "stream",
     "text": [
      "Program starts\n",
      "Success. no errors\n",
      "Program ends\n"
     ]
    }
   ],
   "source": [
    "print('Program starts')\n",
    "a=10\n",
    "b=1\n",
    "\n",
    "#exception handling\n",
    "try:\n",
    "    c=a/b\n",
    "except: #only executes if an error occurs\n",
    "    print('An error occured')\n",
    "else: #only exectues if no error occurs\n",
    "    print('Success. no errors')\n",
    "\n",
    "\n",
    "\n",
    "print('Program ends')"
   ]
  },
  {
   "cell_type": "code",
   "execution_count": 8,
   "metadata": {},
   "outputs": [
    {
     "name": "stdout",
     "output_type": "stream",
     "text": [
      "Program starts\n",
      "Success. no errors\n",
      "Logged data\n",
      "Program ends\n"
     ]
    }
   ],
   "source": [
    "print('Program starts')\n",
    "a=10\n",
    "b=1\n",
    "\n",
    "#exception handling\n",
    "try:\n",
    "    c=a/b\n",
    "except: #only executes if an error occurs\n",
    "    print('An error occured')\n",
    "else: #only exectues if no error occurs\n",
    "    print('Success. no errors')\n",
    "finally: #execute regardless of an error or not\n",
    "    print('Logged data') \n",
    "\n",
    "\n",
    "\n",
    "print('Program ends')"
   ]
  },
  {
   "cell_type": "code",
   "execution_count": null,
   "metadata": {},
   "outputs": [
    {
     "name": "stdout",
     "output_type": "stream",
     "text": [
      "Program starts\n",
      "An error occured division by zero\n",
      "Program ends\n"
     ]
    }
   ],
   "source": [
    "print('Program starts')\n",
    "a=10\n",
    "b=0\n",
    "\n",
    "#catch specific types of exceptions\n",
    "try:\n",
    "    c=a/b\n",
    "except ZeroDivisionError: \n",
    "    print('A zero division error occured')\n",
    "except Exception as e:\n",
    "    print('An error occured',e)\n",
    "\n",
    "\n",
    "\n",
    "\n",
    "\n",
    "print('Program ends')"
   ]
  }
 ],
 "metadata": {
  "kernelspec": {
   "display_name": "Python 3",
   "language": "python",
   "name": "python3"
  },
  "language_info": {
   "codemirror_mode": {
    "name": "ipython",
    "version": 3
   },
   "file_extension": ".py",
   "mimetype": "text/x-python",
   "name": "python",
   "nbconvert_exporter": "python",
   "pygments_lexer": "ipython3",
   "version": "3.10.2"
  }
 },
 "nbformat": 4,
 "nbformat_minor": 2
}
