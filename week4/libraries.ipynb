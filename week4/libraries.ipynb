{
 "cells": [
  {
   "cell_type": "code",
   "execution_count": 5,
   "metadata": {},
   "outputs": [
    {
     "name": "stdout",
     "output_type": "stream",
     "text": [
      "Welcome to the Mauritius Meteorological Services.\n"
     ]
    }
   ],
   "source": [
    "import meteomoris as mt\n",
    "\n",
    "today=mt.get_main_message()\n",
    "print(today)"
   ]
  },
  {
   "cell_type": "code",
   "execution_count": 6,
   "metadata": {},
   "outputs": [
    {
     "data": {
      "text/html": [
       "<pre style=\"white-space:pre;overflow-x:auto;line-height:normal;font-family:Menlo,'DejaVu Sans Mono',consolas,'Courier New',monospace\"><span style=\"font-style: italic\">                                                   Week forecast                                                   </span>\n",
       "┏━━━━━┳━━━━━━━━┳━━━━━┳━━━━━┳━━━━━━━━━━━━━━━━━━━━━━━━━━━━━━━━━━━━━━━━━━━━━┳━━━━━━━━━━━━━━━┳━━━━━━━━━━┳━━━━━━━━━━━━━┓\n",
       "┃<span style=\"font-weight: bold\"> Day </span>┃<span style=\"font-weight: bold\"> Date   </span>┃<span style=\"font-weight: bold\"> Min </span>┃<span style=\"font-weight: bold\"> Max </span>┃<span style=\"font-weight: bold\"> Condition                                   </span>┃<span style=\"font-weight: bold\"> Sea condition </span>┃<span style=\"font-weight: bold\"> Wind     </span>┃<span style=\"font-weight: bold\"> Probability </span>┃\n",
       "┡━━━━━╇━━━━━━━━╇━━━━━╇━━━━━╇━━━━━━━━━━━━━━━━━━━━━━━━━━━━━━━━━━━━━━━━━━━━━╇━━━━━━━━━━━━━━━╇━━━━━━━━━━╇━━━━━━━━━━━━━┩\n",
       "│<span style=\"color: #800080; text-decoration-color: #800080\"> Sat </span>│ Mar 15 │ 20° │ 34° │ Fair                                        │ rough         │ NNE15    │ High        │\n",
       "│<span style=\"color: #800080; text-decoration-color: #800080\"> Sun </span>│ Mar 16 │ 21° │ 34° │ Few showers highgrounds                     │ rough         │ NNW25G50 │ High        │\n",
       "│<span style=\"color: #800080; text-decoration-color: #800080\"> Mon </span>│ Mar 17 │ 21° │ 34° │ Scattered showers. Moderate at times with   │ rough         │ W15      │ High        │\n",
       "│<span style=\"color: #800080; text-decoration-color: #800080\">     </span>│        │     │     │ TS                                          │               │          │             │\n",
       "│<span style=\"color: #800080; text-decoration-color: #800080\"> Tue </span>│ Mar 18 │ 21° │ 33° │ Scattered showers with isol TS              │ rough         │ SE15     │ Medium      │\n",
       "│<span style=\"color: #800080; text-decoration-color: #800080\"> Wed </span>│ Mar 19 │ 21° │ 32° │ Scattered showers with isol TS              │ rough         │ SE15     │ Medium      │\n",
       "│<span style=\"color: #800080; text-decoration-color: #800080\"> Thu </span>│ Mar 20 │ 21° │ 32° │ Scattered showers with isol TS              │ rough         │ SE15     │ Low         │\n",
       "│<span style=\"color: #800080; text-decoration-color: #800080\"> Fri </span>│ Mar 21 │ 21° │ 32° │ Scattered showers with isol TS              │ rough         │ SE15     │ Low         │\n",
       "└─────┴────────┴─────┴─────┴─────────────────────────────────────────────┴───────────────┴──────────┴─────────────┘\n",
       "</pre>\n"
      ],
      "text/plain": [
       "\u001b[3m                                                   Week forecast                                                   \u001b[0m\n",
       "┏━━━━━┳━━━━━━━━┳━━━━━┳━━━━━┳━━━━━━━━━━━━━━━━━━━━━━━━━━━━━━━━━━━━━━━━━━━━━┳━━━━━━━━━━━━━━━┳━━━━━━━━━━┳━━━━━━━━━━━━━┓\n",
       "┃\u001b[1m \u001b[0m\u001b[1mDay\u001b[0m\u001b[1m \u001b[0m┃\u001b[1m \u001b[0m\u001b[1mDate  \u001b[0m\u001b[1m \u001b[0m┃\u001b[1m \u001b[0m\u001b[1mMin\u001b[0m\u001b[1m \u001b[0m┃\u001b[1m \u001b[0m\u001b[1mMax\u001b[0m\u001b[1m \u001b[0m┃\u001b[1m \u001b[0m\u001b[1mCondition                                  \u001b[0m\u001b[1m \u001b[0m┃\u001b[1m \u001b[0m\u001b[1mSea condition\u001b[0m\u001b[1m \u001b[0m┃\u001b[1m \u001b[0m\u001b[1mWind    \u001b[0m\u001b[1m \u001b[0m┃\u001b[1m \u001b[0m\u001b[1mProbability\u001b[0m\u001b[1m \u001b[0m┃\n",
       "┡━━━━━╇━━━━━━━━╇━━━━━╇━━━━━╇━━━━━━━━━━━━━━━━━━━━━━━━━━━━━━━━━━━━━━━━━━━━━╇━━━━━━━━━━━━━━━╇━━━━━━━━━━╇━━━━━━━━━━━━━┩\n",
       "│\u001b[35m \u001b[0m\u001b[35mSat\u001b[0m\u001b[35m \u001b[0m│ Mar 15 │ 20° │ 34° │ Fair                                        │ rough         │ NNE15    │ High        │\n",
       "│\u001b[35m \u001b[0m\u001b[35mSun\u001b[0m\u001b[35m \u001b[0m│ Mar 16 │ 21° │ 34° │ Few showers highgrounds                     │ rough         │ NNW25G50 │ High        │\n",
       "│\u001b[35m \u001b[0m\u001b[35mMon\u001b[0m\u001b[35m \u001b[0m│ Mar 17 │ 21° │ 34° │ Scattered showers. Moderate at times with   │ rough         │ W15      │ High        │\n",
       "│\u001b[35m     \u001b[0m│        │     │     │ TS                                          │               │          │             │\n",
       "│\u001b[35m \u001b[0m\u001b[35mTue\u001b[0m\u001b[35m \u001b[0m│ Mar 18 │ 21° │ 33° │ Scattered showers with isol TS              │ rough         │ SE15     │ Medium      │\n",
       "│\u001b[35m \u001b[0m\u001b[35mWed\u001b[0m\u001b[35m \u001b[0m│ Mar 19 │ 21° │ 32° │ Scattered showers with isol TS              │ rough         │ SE15     │ Medium      │\n",
       "│\u001b[35m \u001b[0m\u001b[35mThu\u001b[0m\u001b[35m \u001b[0m│ Mar 20 │ 21° │ 32° │ Scattered showers with isol TS              │ rough         │ SE15     │ Low         │\n",
       "│\u001b[35m \u001b[0m\u001b[35mFri\u001b[0m\u001b[35m \u001b[0m│ Mar 21 │ 21° │ 32° │ Scattered showers with isol TS              │ rough         │ SE15     │ Low         │\n",
       "└─────┴────────┴─────┴─────┴─────────────────────────────────────────────┴───────────────┴──────────┴─────────────┘\n"
      ]
     },
     "metadata": {},
     "output_type": "display_data"
    }
   ],
   "source": [
    "week=mt.get_weekforecast(print=True)\n"
   ]
  },
  {
   "cell_type": "code",
   "execution_count": 7,
   "metadata": {},
   "outputs": [
    {
     "name": "stdout",
     "output_type": "stream",
     "text": [
      "8.0\n"
     ]
    }
   ],
   "source": [
    "import math\n",
    "\n",
    "print(math.pow(2,3))"
   ]
  },
  {
   "cell_type": "code",
   "execution_count": null,
   "metadata": {},
   "outputs": [
    {
     "name": "stdout",
     "output_type": "stream",
     "text": [
      "5\n"
     ]
    },
    {
     "ename": "AttributeError",
     "evalue": "module 'calculator' has no attribute 'data'",
     "output_type": "error",
     "traceback": [
      "\u001b[0;31m---------------------------------------------------------------------------\u001b[0m",
      "\u001b[0;31mAttributeError\u001b[0m                            Traceback (most recent call last)",
      "Cell \u001b[0;32mIn[15], line 5\u001b[0m\n\u001b[1;32m      1\u001b[0m \u001b[38;5;28;01mimport\u001b[39;00m \u001b[38;5;21;01mcalculator\u001b[39;00m\n\u001b[1;32m      3\u001b[0m calculator\u001b[38;5;241m.\u001b[39madd(\u001b[38;5;241m2\u001b[39m,\u001b[38;5;241m3\u001b[39m)\n\u001b[0;32m----> 5\u001b[0m \u001b[38;5;28mprint\u001b[39m(\u001b[43mcalculator\u001b[49m\u001b[38;5;241;43m.\u001b[39;49m\u001b[43mdata\u001b[49m)\n",
      "\u001b[0;31mAttributeError\u001b[0m: module 'calculator' has no attribute 'data'"
     ]
    }
   ],
   "source": [
    "import calculator\n",
    "\n",
    "calculator.add(2,3)\n"
   ]
  },
  {
   "cell_type": "code",
   "execution_count": 13,
   "metadata": {},
   "outputs": [
    {
     "name": "stdout",
     "output_type": "stream",
     "text": [
      "5\n",
      "5\n"
     ]
    }
   ],
   "source": [
    "from calculator import *\n",
    "\n",
    "add(2,3)\n",
    "\n",
    "sub(10,5)"
   ]
  }
 ],
 "metadata": {
  "kernelspec": {
   "display_name": "Python 3",
   "language": "python",
   "name": "python3"
  },
  "language_info": {
   "codemirror_mode": {
    "name": "ipython",
    "version": 3
   },
   "file_extension": ".py",
   "mimetype": "text/x-python",
   "name": "python",
   "nbconvert_exporter": "python",
   "pygments_lexer": "ipython3",
   "version": "3.10.2"
  }
 },
 "nbformat": 4,
 "nbformat_minor": 2
}
