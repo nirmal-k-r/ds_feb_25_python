{
 "cells": [
  {
   "cell_type": "code",
   "execution_count": 37,
   "metadata": {},
   "outputs": [
    {
     "name": "stdout",
     "output_type": "stream",
     "text": [
      "hello\n",
      "world\n"
     ]
    }
   ],
   "source": [
    "#function definition\n",
    "def greet():\n",
    "    print('hello')\n",
    "    print('world')\n",
    "\n",
    "\n",
    "greet() #function call"
   ]
  },
  {
   "cell_type": "code",
   "execution_count": 38,
   "metadata": {},
   "outputs": [
    {
     "name": "stdout",
     "output_type": "stream",
     "text": [
      "testing\n",
      "testing\n",
      "testing\n",
      "testing\n",
      "testing\n",
      "testing\n",
      "testing\n",
      "testing\n",
      "testing\n",
      "testing\n"
     ]
    }
   ],
   "source": [
    "def test():\n",
    "    print('testing')\n",
    "\n",
    "\n",
    "for i in range(10):\n",
    "    test()"
   ]
  },
  {
   "cell_type": "code",
   "execution_count": 39,
   "metadata": {},
   "outputs": [
    {
     "name": "stdout",
     "output_type": "stream",
     "text": [
      "Hello Tom\n"
     ]
    }
   ],
   "source": [
    "def greet(name): #name is a parameter\n",
    "    print(f'Hello {name}')\n",
    "\n",
    "\n",
    "#main program\n",
    "greet('Tom') #'tom is an argument"
   ]
  },
  {
   "cell_type": "code",
   "execution_count": 40,
   "metadata": {},
   "outputs": [
    {
     "name": "stdout",
     "output_type": "stream",
     "text": [
      "Result 15\n"
     ]
    }
   ],
   "source": [
    "def add(num1,num2):\n",
    "    result=num1+num2\n",
    "    print('Result',result)\n",
    "\n",
    "add(5,10)\n"
   ]
  },
  {
   "cell_type": "code",
   "execution_count": 41,
   "metadata": {},
   "outputs": [
    {
     "name": "stdout",
     "output_type": "stream",
     "text": [
      "40\n"
     ]
    }
   ],
   "source": [
    "def add(num1,num2):\n",
    "    result=num1+num2\n",
    "    return result\n",
    "\n",
    "\n",
    "#main program\n",
    "answer=add(20,20)\n",
    "print(answer)"
   ]
  },
  {
   "cell_type": "code",
   "execution_count": 42,
   "metadata": {},
   "outputs": [
    {
     "name": "stdout",
     "output_type": "stream",
     "text": [
      "3\n"
     ]
    }
   ],
   "source": [
    "names=[10,10,10]\n",
    "result=len(names) #built in function\n",
    "print(result)"
   ]
  },
  {
   "cell_type": "code",
   "execution_count": null,
   "metadata": {},
   "outputs": [
    {
     "name": "stdout",
     "output_type": "stream",
     "text": [
      "Eric is 30 years old and lives at 1234 Chateau St, Uk. he is not married\n",
      "Tom is 25 years old and lives at Under the bridge. he is married\n"
     ]
    }
   ],
   "source": [
    "def info(name,address, age, married):\n",
    "    if married==True:\n",
    "        married=\"married\"\n",
    "    else:\n",
    "        married=\"not married\"\n",
    "\n",
    "    print(f'{name} is {age} years old and lives at {address}. he is {married}')\n",
    "\n",
    "info('Eric','1234 Chateau St, Uk',30,False)\n",
    "\n",
    "info('Tom','Under the bridge',25,True)\n"
   ]
  },
  {
   "cell_type": "code",
   "execution_count": 45,
   "metadata": {},
   "outputs": [
    {
     "name": "stdout",
     "output_type": "stream",
     "text": [
      "10.0\n"
     ]
    }
   ],
   "source": [
    "def avg(a,c,b):\n",
    "    total=a+b+c\n",
    "    average=total/3\n",
    "    return average\n",
    "\n",
    "\n",
    "print(avg(10,10,10))"
   ]
  },
  {
   "cell_type": "code",
   "execution_count": null,
   "metadata": {},
   "outputs": [
    {
     "data": {
      "text/plain": [
       "5"
      ]
     },
     "execution_count": 47,
     "metadata": {},
     "output_type": "execute_result"
    }
   ],
   "source": [
    "int(10/2) #built in function"
   ]
  },
  {
   "cell_type": "code",
   "execution_count": 50,
   "metadata": {},
   "outputs": [],
   "source": [
    "def add():\n",
    "    pass #placeholder\n",
    "\n",
    "def subtract():\n",
    "    pass\n",
    "\n",
    "add()"
   ]
  },
  {
   "cell_type": "code",
   "execution_count": 54,
   "metadata": {},
   "outputs": [
    {
     "name": "stdout",
     "output_type": "stream",
     "text": [
      "Registered  Tom Tom 0 False\n",
      "Registered  Eric Eric 0 False\n",
      "Registered  Paul Paul 40 True\n",
      "Registered  Zackl Zackl 0 False\n"
     ]
    }
   ],
   "source": [
    "def register(name, address, age, married):\n",
    "    print('Registered ', name,name,age,married)\n",
    "\n",
    "register('Tom','1234 hulu st', 0, False)\n",
    "register('Eric','4231 hulu st', 0, False)\n",
    "register('Paul','Mauritius', 40, True)\n",
    "register('Zackl','Rebunion st', 0, False)"
   ]
  },
  {
   "cell_type": "code",
   "execution_count": null,
   "metadata": {},
   "outputs": [
    {
     "name": "stdout",
     "output_type": "stream",
     "text": [
      "Registered  Tom Tom 0 False\n",
      "Registered  Eric Eric 0 False\n",
      "Registered  Zackl Zackl 0 False\n",
      "Registered  Paul Paul 40 True\n"
     ]
    }
   ],
   "source": [
    "def register(name,address, age=0,married=False): #default values\n",
    "    print('Registered ', name,name,age,married)\n",
    "\n",
    "register('Tom','1234 hulu st')\n",
    "register('Eric','4231 hulu st')\n",
    "register('Zackl','Rebunion st')\n",
    "register('Paul','Mauritius', 40, True)"
   ]
  },
  {
   "cell_type": "code",
   "execution_count": 56,
   "metadata": {},
   "outputs": [
    {
     "name": "stdout",
     "output_type": "stream",
     "text": [
      "Hi Tomn\n"
     ]
    }
   ],
   "source": [
    "def greet(name):\n",
    "    print(\"Hi\", name)\n",
    "\n",
    "a='Tomn'\n",
    "\n",
    "greet(a)"
   ]
  },
  {
   "cell_type": "code",
   "execution_count": null,
   "metadata": {},
   "outputs": [
    {
     "name": "stdout",
     "output_type": "stream",
     "text": [
      "Original 20\n",
      "final 20\n"
     ]
    }
   ],
   "source": [
    "def process(data):\n",
    "    data=10\n",
    "\n",
    "myNum=20\n",
    "\n",
    "print('Original',myNum)\n",
    "\n",
    "process(myNum)\n",
    "\n",
    "print('final',myNum)"
   ]
  },
  {
   "cell_type": "code",
   "execution_count": null,
   "metadata": {},
   "outputs": [
    {
     "name": "stdout",
     "output_type": "stream",
     "text": [
      "Original [90]\n",
      "final [1]\n"
     ]
    }
   ],
   "source": [
    "def process2(marks):\n",
    "    marks[0]=1\n",
    "    marks[1]=2\n",
    "    marks[2]=3\n",
    "\n",
    "name=\"tom\"\n",
    "\n",
    "\n",
    "myMarks=[90,80,70]\n",
    "\n",
    "print('Original',myMarks)\n",
    "\n",
    "process2(myMarks)\n",
    "\n",
    "print('final',myMarks)\n"
   ]
  },
  {
   "cell_type": "code",
   "execution_count": null,
   "metadata": {},
   "outputs": [
    {
     "name": "stdout",
     "output_type": "stream",
     "text": [
      "6\n"
     ]
    }
   ],
   "source": [
    "add = lambda a,b : a + b #anonymous fn\n",
    "\n",
    "\n",
    "add=6\n",
    "\n",
    "print(add)\n",
    "\n"
   ]
  },
  {
   "cell_type": "code",
   "execution_count": 67,
   "metadata": {},
   "outputs": [
    {
     "name": "stdout",
     "output_type": "stream",
     "text": [
      "6\n"
     ]
    }
   ],
   "source": [
    "def add(a,b):\n",
    "    print(a+b)\n",
    "\n",
    "add(3,3)"
   ]
  },
  {
   "cell_type": "code",
   "execution_count": 68,
   "metadata": {},
   "outputs": [
    {
     "name": "stdout",
     "output_type": "stream",
     "text": [
      "10\n"
     ]
    }
   ],
   "source": [
    "def add(a,b,c):\n",
    "    print(a+b+c)\n",
    "\n",
    "add(3,3,4)"
   ]
  },
  {
   "cell_type": "code",
   "execution_count": 69,
   "metadata": {},
   "outputs": [
    {
     "name": "stdout",
     "output_type": "stream",
     "text": [
      "17\n"
     ]
    }
   ],
   "source": [
    "def add(a,b,c,d,e):\n",
    "    print(a+b+c+d+e)\n",
    "\n",
    "add(3,3,4,4,3)"
   ]
  },
  {
   "cell_type": "code",
   "execution_count": null,
   "metadata": {},
   "outputs": [
    {
     "name": "stdout",
     "output_type": "stream",
     "text": [
      "1\n",
      "3\n",
      "6\n",
      "15\n"
     ]
    }
   ],
   "source": [
    "def add(*numbers):\n",
    "    total=0\n",
    "    for num in numbers:\n",
    "        total=total+num\n",
    "\n",
    "    print(total)\n",
    "\n",
    "\n",
    "add(1)\n",
    "add(1,2)\n",
    "add(1,2,3)\n",
    "add(1,1,1,1,1,1,1,1,1,1,1,1,1,1,1)"
   ]
  },
  {
   "cell_type": "code",
   "execution_count": null,
   "metadata": {},
   "outputs": [
    {
     "name": "stdout",
     "output_type": "stream",
     "text": [
      "first_name Tom\n",
      "last_name Rock\n",
      "---------\n",
      "first_name Paul\n",
      "last_name Walker\n",
      "dob 1 Jan 1990\n",
      "married False\n"
     ]
    }
   ],
   "source": [
    "def info(**details):\n",
    "    for key in details:\n",
    "        print(key,details[key])\n",
    "\n",
    "info(first_name='Tom',last_name=\"Rock\")\n",
    "print('---------')\n",
    "info(first_name='Paul',last_name=\"Walker\",dob='1 Jan 1990', married=False)\n"
   ]
  },
  {
   "cell_type": "code",
   "execution_count": 78,
   "metadata": {},
   "outputs": [
    {
     "ename": "AssertionError",
     "evalue": "",
     "output_type": "error",
     "traceback": [
      "\u001b[0;31m---------------------------------------------------------------------------\u001b[0m",
      "\u001b[0;31mAssertionError\u001b[0m                            Traceback (most recent call last)",
      "Cell \u001b[0;32mIn[78], line 19\u001b[0m\n\u001b[1;32m     14\u001b[0m     \u001b[38;5;28;01massert\u001b[39;00m add(\u001b[38;5;241m-\u001b[39m\u001b[38;5;241m2\u001b[39m,\u001b[38;5;241m-\u001b[39m\u001b[38;5;241m2\u001b[39m) \u001b[38;5;241m==\u001b[39m\u001b[38;5;241m-\u001b[39m \u001b[38;5;241m3\u001b[39m\n\u001b[1;32m     18\u001b[0m test_square()\n\u001b[0;32m---> 19\u001b[0m \u001b[43mtest_add\u001b[49m\u001b[43m(\u001b[49m\u001b[43m)\u001b[49m\n",
      "Cell \u001b[0;32mIn[78], line 14\u001b[0m, in \u001b[0;36mtest_add\u001b[0;34m()\u001b[0m\n\u001b[1;32m     12\u001b[0m \u001b[38;5;28;01mdef\u001b[39;00m \u001b[38;5;21mtest_add\u001b[39m():\n\u001b[1;32m     13\u001b[0m     \u001b[38;5;28;01massert\u001b[39;00m add(\u001b[38;5;241m3\u001b[39m,\u001b[38;5;241m3\u001b[39m) \u001b[38;5;241m==\u001b[39m \u001b[38;5;241m6\u001b[39m\n\u001b[0;32m---> 14\u001b[0m     \u001b[38;5;28;01massert\u001b[39;00m add(\u001b[38;5;241m-\u001b[39m\u001b[38;5;241m2\u001b[39m,\u001b[38;5;241m-\u001b[39m\u001b[38;5;241m2\u001b[39m) \u001b[38;5;241m==\u001b[39m\u001b[38;5;241m-\u001b[39m \u001b[38;5;241m3\u001b[39m\n",
      "\u001b[0;31mAssertionError\u001b[0m: "
     ]
    }
   ],
   "source": [
    "def square(num): #function to be tested\n",
    "    return num * num\n",
    "\n",
    "def add(a,b):\n",
    "    return a+b\n",
    "\n",
    "#unit test\n",
    "def test_square():\n",
    "    assert square(3) == 9\n",
    "    assert square(-4) == 16\n",
    "\n",
    "def test_add():\n",
    "    assert add(3,3) == 6\n",
    "    assert add(-2,-2) ==- 3\n",
    "\n",
    "\n",
    "\n",
    "test_square()\n",
    "test_add()"
   ]
  }
 ],
 "metadata": {
  "kernelspec": {
   "display_name": "Python 3",
   "language": "python",
   "name": "python3"
  },
  "language_info": {
   "codemirror_mode": {
    "name": "ipython",
    "version": 3
   },
   "file_extension": ".py",
   "mimetype": "text/x-python",
   "name": "python",
   "nbconvert_exporter": "python",
   "pygments_lexer": "ipython3",
   "version": "3.10.2"
  }
 },
 "nbformat": 4,
 "nbformat_minor": 2
}
