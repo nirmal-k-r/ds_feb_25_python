{
 "cells": [
  {
   "cell_type": "code",
   "execution_count": null,
   "metadata": {},
   "outputs": [
    {
     "name": "stdout",
     "output_type": "stream",
     "text": [
      "apple\n",
      "milk\n",
      "rice\n",
      "sugar\n",
      "salt\n"
     ]
    }
   ],
   "source": [
    "file=open('groceries.txt','r')\n",
    "\n",
    "print(file.read())\n",
    "\n",
    "file.close()"
   ]
  },
  {
   "cell_type": "code",
   "execution_count": null,
   "metadata": {},
   "outputs": [
    {
     "name": "stdout",
     "output_type": "stream",
     "text": [
      "apple\n",
      "\n",
      "milk\n",
      "\n",
      "rice\n",
      "\n",
      "sugar\n",
      "\n",
      "salt\n"
     ]
    }
   ],
   "source": [
    "file=open('groceries.txt','r')\n",
    "\n",
    "for line in file: #read file line by line\n",
    "    print(line)\n",
    "\n",
    "file.close()"
   ]
  },
  {
   "cell_type": "code",
   "execution_count": 5,
   "metadata": {},
   "outputs": [
    {
     "name": "stdout",
     "output_type": "stream",
     "text": [
      "apple\n",
      "milk\n",
      "rice\n",
      "sugar\n",
      "salt\n"
     ]
    }
   ],
   "source": [
    "with open('groceries.txt','r') as file:\n",
    "    print(file.read())\n",
    "\n"
   ]
  },
  {
   "cell_type": "code",
   "execution_count": null,
   "metadata": {},
   "outputs": [
    {
     "name": "stdout",
     "output_type": "stream",
     "text": [
      "apple\n",
      "milk\n"
     ]
    }
   ],
   "source": [
    "with open('groceries.txt','r') as file:\n",
    "    print(file.read(10)) #read first 10 chars"
   ]
  },
  {
   "cell_type": "code",
   "execution_count": 10,
   "metadata": {},
   "outputs": [
    {
     "name": "stdout",
     "output_type": "stream",
     "text": [
      "rice\n"
     ]
    }
   ],
   "source": [
    "with open('groceries.txt','r') as file:\n",
    "    file.seek(11) #move cursor to 11th posiution\n",
    "    print(file.read(4))\n"
   ]
  },
  {
   "cell_type": "code",
   "execution_count": 12,
   "metadata": {},
   "outputs": [
    {
     "name": "stdout",
     "output_type": "stream",
     "text": [
      "sugar\n",
      "\n"
     ]
    }
   ],
   "source": [
    "file=open('groceries.txt','r')\n",
    "\n",
    "file.seek(16)\n",
    "\n",
    "print(file.readline())\n",
    "\n",
    "file.close()"
   ]
  },
  {
   "cell_type": "code",
   "execution_count": 18,
   "metadata": {},
   "outputs": [],
   "source": [
    "file=open('names2.txt','w')\n",
    "\n",
    "file.write('Polo\\n')\n",
    "file.write('Tom\\n')\n",
    "file.write('David\\n')\n",
    "file.write('Eric\\n')\n",
    "\n",
    "file.close()"
   ]
  },
  {
   "cell_type": "code",
   "execution_count": 19,
   "metadata": {},
   "outputs": [],
   "source": [
    "names=['tom\\n','polo\\n','David\\n']\n",
    "file=open('names3.txt','w')\n",
    "\n",
    "file.writelines(names)\n",
    "\n",
    "file.close()\n"
   ]
  },
  {
   "cell_type": "code",
   "execution_count": 21,
   "metadata": {},
   "outputs": [],
   "source": [
    "names=['Jean\\n','Pierre\\n']\n",
    "file=open('names3.txt','a')\n",
    "\n",
    "file.writelines(names)\n",
    "\n",
    "file.close()"
   ]
  }
 ],
 "metadata": {
  "kernelspec": {
   "display_name": "Python 3",
   "language": "python",
   "name": "python3"
  },
  "language_info": {
   "codemirror_mode": {
    "name": "ipython",
    "version": 3
   },
   "file_extension": ".py",
   "mimetype": "text/x-python",
   "name": "python",
   "nbconvert_exporter": "python",
   "pygments_lexer": "ipython3",
   "version": "3.10.2"
  }
 },
 "nbformat": 4,
 "nbformat_minor": 2
}
